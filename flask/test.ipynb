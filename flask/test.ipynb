{
 "cells": [
  {
   "cell_type": "code",
   "execution_count": 1,
   "id": "9461d00d",
   "metadata": {},
   "outputs": [
    {
     "data": {
      "application/vnd.jupyter.widget-view+json": {
       "model_id": "54b759e39ef44a7d888ae361630e334c",
       "version_major": 2,
       "version_minor": 0
      },
      "text/plain": [
       "Loading checkpoint shards:   0%|          | 0/3 [00:00<?, ?it/s]"
      ]
     },
     "metadata": {},
     "output_type": "display_data"
    }
   ],
   "source": [
    "from werkzeug.utils import secure_filename\n",
    "import os\n",
    "import re\n",
    "from PIL import Image, ImageDraw, ImageFont\n",
    "import torch\n",
    "from transformers import AutoProcessor, AutoModelForImageTextToText\n",
    "import matplotlib.pyplot as plt\n",
    "import matplotlib.patches as patches\n",
    "\n",
    "model_id = \"google/paligemma-3b-mix-224\"\n",
    "processor = AutoProcessor.from_pretrained(model_id, use_fast=True)\n",
    "model = AutoModelForImageTextToText.from_pretrained(\n",
    "    model_id,\n",
    "    torch_dtype=torch.float16 if torch.cuda.is_available() else torch.float32\n",
    ").to(\"cuda\" if torch.cuda.is_available() else \"cpu\").eval()\n"
   ]
  },
  {
   "cell_type": "code",
   "execution_count": 6,
   "id": "b432cb92",
   "metadata": {},
   "outputs": [],
   "source": [
    "def process_bbox(image_path, bbox_string, output_path):\n",
    "    image = Image.open(image_path).convert(\"RGB\")\n",
    "    draw = ImageDraw.Draw(image)\n",
    "    width, height = image.size\n",
    "\n",
    "    # You can set a font if you have one, else use default\n",
    "    try:\n",
    "        font = ImageFont.truetype(\"arial.ttf\", size=16)\n",
    "    except:\n",
    "        font = ImageFont.load_default()\n",
    "\n",
    "    pattern = r\"<loc(\\d{4})><loc(\\d{4})><loc(\\d{4})><loc(\\d{4})>\\s*([a-zA-Z]+)\"\n",
    "    matches = re.findall(pattern, bbox_string)\n",
    "\n",
    "    for ymin_str, xmin_str, ymax_str, xmax_str, label in matches:\n",
    "        ymin = int(ymin_str) / 1000 * height\n",
    "        xmin = int(xmin_str) / 1000 * width\n",
    "        ymax = int(ymax_str) / 1000 * height\n",
    "        xmax = int(xmax_str) / 1000 * width\n",
    "\n",
    "        # Draw rectangle\n",
    "        draw.rectangle([(xmin, ymin), (xmax, ymax)], outline='red', width=2)\n",
    "\n",
    "        # Draw label\n",
    "        text_position = (xmin, ymin - 15 if ymin > 15 else ymin + 5)\n",
    "        draw.text(text_position, label, fill='yellow', font=font)\n",
    "\n",
    "    image.save(output_path)"
   ]
  },
  {
   "cell_type": "code",
   "execution_count": 3,
   "id": "d53bf1a4",
   "metadata": {},
   "outputs": [],
   "source": [
    "\n",
    "def process_image(input_path, output_path):\n",
    "    image = Image.open(input_path).convert(\"RGB\")\n",
    "    # Add <image> token prefix per model requirement\n",
    "    prompt = \"<image> detect chair ; table ; bed ; sofa ; shelf\\n\"\n",
    "\n",
    "    inputs = processor(images=image, text=prompt, return_tensors=\"pt\").to(model.device)\n",
    "    input_len = inputs[\"input_ids\"].shape[-1]\n",
    "\n",
    "    with torch.inference_mode():\n",
    "        outputs = model.generate(**inputs, max_new_tokens=200, do_sample=False)\n",
    "        outputs = outputs[0][input_len:]\n",
    "\n",
    "    result = processor.decode(outputs, skip_special_tokens=True)\n",
    "    print(f\"Model detection output: {result}\")\n",
    "\n",
    "    process_bbox(input_path, result, output_path)\n"
   ]
  },
  {
   "cell_type": "code",
   "execution_count": 7,
   "id": "7da84bf1",
   "metadata": {},
   "outputs": [
    {
     "name": "stdout",
     "output_type": "stream",
     "text": [
      "Model detection output: <loc0596><loc0000><loc0911><loc0233> shelf ; <loc0596><loc0350><loc0905><loc0920> sofa ; <loc0720><loc0181><loc0913><loc0350> chair ; <loc0745><loc0397><loc0871><loc0612> table\n"
     ]
    }
   ],
   "source": [
    "\n",
    "process_image(input_path='static/uploads/room.jpg',output_path='static/processed/processed_room.jpg')"
   ]
  },
  {
   "cell_type": "code",
   "execution_count": null,
   "id": "21e23ee9",
   "metadata": {},
   "outputs": [],
   "source": []
  }
 ],
 "metadata": {
  "kernelspec": {
   "display_name": "base",
   "language": "python",
   "name": "python3"
  },
  "language_info": {
   "codemirror_mode": {
    "name": "ipython",
    "version": 3
   },
   "file_extension": ".py",
   "mimetype": "text/x-python",
   "name": "python",
   "nbconvert_exporter": "python",
   "pygments_lexer": "ipython3",
   "version": "3.13.2"
  }
 },
 "nbformat": 4,
 "nbformat_minor": 5
}
